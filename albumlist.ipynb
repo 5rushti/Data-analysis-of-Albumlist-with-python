{
 "cells": [
  {
   "cell_type": "code",
   "execution_count": 42,
   "id": "9b49e8fa-1210-4189-9ed1-c48462fa1ce8",
   "metadata": {
    "tags": []
   },
   "outputs": [],
   "source": [
    "import pandas as pd\n",
    "import numpy as np"
   ]
  },
  {
   "cell_type": "markdown",
   "id": "3674ce3a-3e53-4c0a-9286-32ef111eff91",
   "metadata": {},
   "source": [
    "Data Analysis of Album list \n",
    "This is my first time performing data analysis with python.\n",
    "In this analysis i analyzed the data of the music album produced from the year 1955 to 2011.\n",
    "First we will read the csv file"
   ]
  },
  {
   "cell_type": "code",
   "execution_count": 43,
   "id": "3da64469-b4d6-4305-86e9-0685345fa22d",
   "metadata": {
    "tags": []
   },
   "outputs": [],
   "source": [
    "album=pd.read_csv(\"albumlist.csv\")"
   ]
  },
  {
   "cell_type": "code",
   "execution_count": null,
   "id": "6e493cf9-409c-4a8a-8482-b35cda79c69a",
   "metadata": {},
   "outputs": [],
   "source": [
    "after reading the csv file we will get to know the csv."
   ]
  },
  {
   "cell_type": "code",
   "execution_count": 114,
   "id": "db40252f-05a3-4174-bee2-cd4af1bf52c8",
   "metadata": {},
   "outputs": [
    {
     "name": "stdout",
     "output_type": "stream",
     "text": [
      "<class 'pandas.core.frame.DataFrame'>\n",
      "RangeIndex: 500 entries, 0 to 499\n",
      "Data columns (total 6 columns):\n",
      " #   Column    Non-Null Count  Dtype \n",
      "---  ------    --------------  ----- \n",
      " 0   Number    500 non-null    int64 \n",
      " 1   Year      500 non-null    object\n",
      " 2   Album     500 non-null    object\n",
      " 3   Artist    500 non-null    object\n",
      " 4   Genre     500 non-null    object\n",
      " 5   Subgenre  500 non-null    object\n",
      "dtypes: int64(1), object(5)\n",
      "memory usage: 23.6+ KB\n"
     ]
    }
   ],
   "source": [
    "\n",
    "album.info()"
   ]
  },
  {
   "cell_type": "code",
   "execution_count": null,
   "id": "fa0b4453-91c3-4ae1-baa0-c11a6385b38d",
   "metadata": {},
   "outputs": [],
   "source": [
    "after getting to know the csv file we will start the data cleaning process"
   ]
  },
  {
   "cell_type": "code",
   "execution_count": 45,
   "id": "40f8ad7f-8aef-477e-b925-5eb369fd3286",
   "metadata": {},
   "outputs": [
    {
     "data": {
      "text/plain": [
       "1970                      26\n",
       "1972                      24\n",
       "1969                      22\n",
       "1971                      21\n",
       "1973                      21\n",
       "1968                      21\n",
       "1967                      20\n",
       "1975                      18\n",
       "1977                      18\n",
       "1994                      16\n",
       "1978                      16\n",
       "1979                      14\n",
       "1974                      14\n",
       "1965                      14\n",
       "1966                      13\n",
       "1991                      13\n",
       "1976                      12\n",
       "1987                      12\n",
       "1985                      11\n",
       "1989                      10\n",
       "1984                      10\n",
       "1980                       9\n",
       "1986                       9\n",
       "2001                       9\n",
       "2000                       7\n",
       "2002                       7\n",
       "1982                       6\n",
       "1992                       6\n",
       "1983                       6\n",
       "1981                       6\n",
       "1988                       6\n",
       "1999                       6\n",
       "1993                       6\n",
       "1997                       6\n",
       "2007                       5\n",
       "1995                       5\n",
       "1963                       5\n",
       "1998                       5\n",
       "1990                       5\n",
       "1959                       4\n",
       "1964                       4\n",
       "2003                       4\n",
       "1996                       4\n",
       "1960                       3\n",
       "2006                       3\n",
       "2004                       2\n",
       "1956                       2\n",
       "2005                       2\n",
       "1962                       2\n",
       "1957                       2\n",
       "2011                       1\n",
       "2010                       1\n",
       "1399                       1\n",
       "1955                       1\n",
       "1961                       1\n",
       "nineteen seventy three     1\n",
       "1958                       1\n",
       "2008                       1\n",
       "Name: Year, dtype: int64"
      ]
     },
     "execution_count": 45,
     "metadata": {},
     "output_type": "execute_result"
    }
   ],
   "source": [
    "album['Year'].value_counts()"
   ]
  },
  {
   "cell_type": "code",
   "execution_count": 115,
   "id": "4103e9a5-1f7b-4af7-972d-f45a31174c1e",
   "metadata": {},
   "outputs": [],
   "source": [
    "#replaced the word with number\n",
    "album['Year'].replace({\"nineteen seventy three\":\"1973\"}, inplace=True)"
   ]
  },
  {
   "cell_type": "code",
   "execution_count": 49,
   "id": "99680d92-3b11-4b9b-a36e-e1af2207c36f",
   "metadata": {},
   "outputs": [
    {
     "data": {
      "text/plain": [
       "2008     1\n",
       "1958     1\n",
       "2010     1\n",
       "1399     1\n",
       "1955     1\n",
       "2011     1\n",
       "1961     1\n",
       "2004     2\n",
       "2005     2\n",
       "1962     2\n",
       "1956     2\n",
       "1957     2\n",
       "2006     3\n",
       "1960     3\n",
       "1959     4\n",
       "2003     4\n",
       "1964     4\n",
       "1996     4\n",
       "1990     5\n",
       "1963     5\n",
       "2007     5\n",
       "1995     5\n",
       "1998     5\n",
       "1997     6\n",
       "1992     6\n",
       "1982     6\n",
       "1983     6\n",
       "1999     6\n",
       "1993     6\n",
       "1981     6\n",
       "1988     6\n",
       "2002     7\n",
       "2000     7\n",
       "2001     9\n",
       "1986     9\n",
       "1980     9\n",
       "1984    10\n",
       "1989    10\n",
       "1985    11\n",
       "1976    12\n",
       "1987    12\n",
       "1966    13\n",
       "1991    13\n",
       "1979    14\n",
       "1965    14\n",
       "1974    14\n",
       "1978    16\n",
       "1994    16\n",
       "1977    18\n",
       "1975    18\n",
       "1967    20\n",
       "1968    21\n",
       "1971    21\n",
       "1973    22\n",
       "1969    22\n",
       "1972    24\n",
       "1970    26\n",
       "Name: Year, dtype: int64"
      ]
     },
     "execution_count": 49,
     "metadata": {},
     "output_type": "execute_result"
    }
   ],
   "source": [
    "album['Year'].value_counts(ascending=True)"
   ]
  },
  {
   "cell_type": "code",
   "execution_count": 53,
   "id": "71f02880-00e3-49e9-8cb4-c804310aae0e",
   "metadata": {},
   "outputs": [
    {
     "data": {
      "text/plain": [
       "Rock                                         249\n",
       "Funk / Soul                                   38\n",
       "Hip Hop                                       29\n",
       "Electronic, Rock                              19\n",
       "Rock, Pop                                     18\n",
       "                                            ... \n",
       "Hip Hop, Rock, Funk / Soul                     1\n",
       "Electronic, Rock, Funk / Soul, Pop             1\n",
       "Rock, Funk / Soul, Folk, World, & Country      1\n",
       "Rock,Blues                                     1\n",
       "Rock, Reggae, Latin                            1\n",
       "Name: Genre, Length: 63, dtype: int64"
      ]
     },
     "execution_count": 53,
     "metadata": {},
     "output_type": "execute_result"
    }
   ],
   "source": [
    "album['Genre'].value_counts()"
   ]
  },
  {
   "cell_type": "code",
   "execution_count": 57,
   "id": "a6648224-1357-48ea-9d18-651e2bc5c200",
   "metadata": {},
   "outputs": [
    {
     "data": {
      "text/plain": [
       "Year  Genre            \n",
       "1970  Rock                 16\n",
       "1973  Rock                 16\n",
       "1967  Rock                 15\n",
       "1969  Rock                 14\n",
       "1972  Rock                 13\n",
       "                           ..\n",
       "1975  Rock, Pop             1\n",
       "1976  Funk / Soul           1\n",
       "      Rock, Funk / Soul     1\n",
       "1977  Electronic            1\n",
       "2011  Rock                  1\n",
       "Length: 253, dtype: int64"
      ]
     },
     "execution_count": 57,
     "metadata": {},
     "output_type": "execute_result"
    }
   ],
   "source": [
    "album[['Year','Genre']].value_counts()"
   ]
  },
  {
   "cell_type": "code",
   "execution_count": 58,
   "id": "37f1bab9-8e3f-47d4-b5d6-e78fc369fa94",
   "metadata": {},
   "outputs": [
    {
     "data": {
      "text/plain": [
       "Year  Subgenre                   \n",
       "1967  Folk Rock, Psychedelic Rock    4\n",
       "1987  None                           4\n",
       "1977  Pop Rock                       3\n",
       "1970  Pop Rock                       3\n",
       "1977  Punk                           3\n",
       "                                    ..\n",
       "1972  Piano Blues                    1\n",
       "      None                           1\n",
       "      Glam                           1\n",
       "      Funk                           1\n",
       "2011  Pop Rock, Psychedelic Rock     1\n",
       "Length: 462, dtype: int64"
      ]
     },
     "execution_count": 58,
     "metadata": {},
     "output_type": "execute_result"
    }
   ],
   "source": [
    "album[['Year','Subgenre']].value_counts()"
   ]
  },
  {
   "cell_type": "code",
   "execution_count": 62,
   "id": "a9f15d85-5166-4dc3-9907-5429e768d37a",
   "metadata": {},
   "outputs": [
    {
     "data": {
      "text/plain": [
       "False"
      ]
     },
     "execution_count": 62,
     "metadata": {},
     "output_type": "execute_result"
    }
   ],
   "source": [
    "#finding null values\n",
    "album.isnull().values.any()"
   ]
  },
  {
   "cell_type": "code",
   "execution_count": 117,
   "id": "a03cf1f8-314d-4606-a37f-d1d92ee76d23",
   "metadata": {},
   "outputs": [
    {
     "data": {
      "text/plain": [
       "0      False\n",
       "1      False\n",
       "2      False\n",
       "3      False\n",
       "4      False\n",
       "       ...  \n",
       "495    False\n",
       "496    False\n",
       "497    False\n",
       "498    False\n",
       "499    False\n",
       "Length: 500, dtype: bool"
      ]
     },
     "execution_count": 117,
     "metadata": {},
     "output_type": "execute_result"
    }
   ],
   "source": [
    "#finding duplicates\n",
    "album.duplicated()"
   ]
  },
  {
   "cell_type": "code",
   "execution_count": 65,
   "id": "dc800953-ff53-4342-b34a-c5c332c145f8",
   "metadata": {},
   "outputs": [
    {
     "data": {
      "text/plain": [
       "Artist            Year\n",
       "Led Zeppelin      1969    2\n",
       "Grateful Dead     1970    2\n",
       "The Wailers       1973    2\n",
       "Bob Dylan         1965    2\n",
       "Black Sabbath     1970    2\n",
       "                         ..\n",
       "Jane's Addiction  1988    1\n",
       "James Taylor      1970    1\n",
       "James Brown       1991    1\n",
       "                  1986    1\n",
       "ZZ Top            1983    1\n",
       "Length: 488, dtype: int64"
      ]
     },
     "execution_count": 65,
     "metadata": {},
     "output_type": "execute_result"
    }
   ],
   "source": [
    "album[['Artist','Year']].value_counts()"
   ]
  },
  {
   "cell_type": "code",
   "execution_count": 66,
   "id": "5d6f5b88-1ffe-4463-8547-650c5e5097a9",
   "metadata": {},
   "outputs": [
    {
     "data": {
      "text/plain": [
       "Artist                           Genre                 \n",
       "Bruce Springsteen                Rock                      8\n",
       "The Rolling Stones               Rock                      8\n",
       "The Who                          Rock                      7\n",
       "The Beatles                      Rock                      7\n",
       "Bob Dylan                        Rock                      6\n",
       "                                                          ..\n",
       "John Prine                       Folk, World, & Country    1\n",
       "John Mayall & The Bluesbreakers  Rock,Blues                1\n",
       "John Lennon / Plastic Ono Band   Rock                      1\n",
       "John Lennon                      Rock                      1\n",
       "Muddy Waters                     Folk, World, & Country    1\n",
       "Length: 342, dtype: int64"
      ]
     },
     "execution_count": 66,
     "metadata": {},
     "output_type": "execute_result"
    }
   ],
   "source": [
    "album[['Artist','Genre']].value_counts()"
   ]
  },
  {
   "cell_type": "code",
   "execution_count": 68,
   "id": "ad5578fd-c63b-4849-b75d-69bb15f2b4ea",
   "metadata": {},
   "outputs": [
    {
     "data": {
      "text/html": [
       "<div>\n",
       "<style scoped>\n",
       "    .dataframe tbody tr th:only-of-type {\n",
       "        vertical-align: middle;\n",
       "    }\n",
       "\n",
       "    .dataframe tbody tr th {\n",
       "        vertical-align: top;\n",
       "    }\n",
       "\n",
       "    .dataframe thead th {\n",
       "        text-align: right;\n",
       "    }\n",
       "</style>\n",
       "<table border=\"1\" class=\"dataframe\">\n",
       "  <thead>\n",
       "    <tr style=\"text-align: right;\">\n",
       "      <th></th>\n",
       "      <th>Number</th>\n",
       "      <th>Year</th>\n",
       "      <th>Album</th>\n",
       "      <th>Artist</th>\n",
       "      <th>Genre</th>\n",
       "      <th>Subgenre</th>\n",
       "    </tr>\n",
       "  </thead>\n",
       "  <tbody>\n",
       "    <tr>\n",
       "      <th>289</th>\n",
       "      <td>290</td>\n",
       "      <td>1399</td>\n",
       "      <td>Call Me</td>\n",
       "      <td>Al Green</td>\n",
       "      <td>Funk / Soul</td>\n",
       "      <td>Rhythm &amp; Blues, Soul</td>\n",
       "    </tr>\n",
       "    <tr>\n",
       "      <th>100</th>\n",
       "      <td>101</td>\n",
       "      <td>1955</td>\n",
       "      <td>In the Wee Small Hours</td>\n",
       "      <td>Frank Sinatra</td>\n",
       "      <td>Jazz, Pop</td>\n",
       "      <td>Big Band, Ballad</td>\n",
       "    </tr>\n",
       "    <tr>\n",
       "      <th>307</th>\n",
       "      <td>308</td>\n",
       "      <td>1956</td>\n",
       "      <td>Songs for Swingin' Lovers!</td>\n",
       "      <td>Frank Sinatra</td>\n",
       "      <td>Jazz, Pop</td>\n",
       "      <td>Vocal, Easy Listening</td>\n",
       "    </tr>\n",
       "    <tr>\n",
       "      <th>55</th>\n",
       "      <td>56</td>\n",
       "      <td>1956</td>\n",
       "      <td>Elvis Presley</td>\n",
       "      <td>Elvis Presley</td>\n",
       "      <td>Rock</td>\n",
       "      <td>Rock &amp; Roll, Rockabilly</td>\n",
       "    </tr>\n",
       "    <tr>\n",
       "      <th>49</th>\n",
       "      <td>50</td>\n",
       "      <td>1957</td>\n",
       "      <td>Here's Little Richard</td>\n",
       "      <td>Little Richard</td>\n",
       "      <td>Rock, Blues</td>\n",
       "      <td>Rock &amp; Roll, Rhythm &amp; Blues</td>\n",
       "    </tr>\n",
       "    <tr>\n",
       "      <th>...</th>\n",
       "      <td>...</td>\n",
       "      <td>...</td>\n",
       "      <td>...</td>\n",
       "      <td>...</td>\n",
       "      <td>...</td>\n",
       "      <td>...</td>\n",
       "    </tr>\n",
       "    <tr>\n",
       "      <th>429</th>\n",
       "      <td>430</td>\n",
       "      <td>2007</td>\n",
       "      <td>Vampire Weekend</td>\n",
       "      <td>Vampire Weekend</td>\n",
       "      <td>Rock</td>\n",
       "      <td>Indie Rock</td>\n",
       "    </tr>\n",
       "    <tr>\n",
       "      <th>392</th>\n",
       "      <td>393</td>\n",
       "      <td>2007</td>\n",
       "      <td>Kala</td>\n",
       "      <td>M.I.A.</td>\n",
       "      <td>Electronic, Hip Hop, Reggae, Pop</td>\n",
       "      <td>Grime, Bollywood, Hip Hop, Dancehall</td>\n",
       "    </tr>\n",
       "    <tr>\n",
       "      <th>436</th>\n",
       "      <td>437</td>\n",
       "      <td>2008</td>\n",
       "      <td>Tha Carter III</td>\n",
       "      <td>Lil Wayne</td>\n",
       "      <td>Hip Hop, Funk / Soul</td>\n",
       "      <td>RnB/Swing, Screw, Pop Rap, Thug Rap</td>\n",
       "    </tr>\n",
       "    <tr>\n",
       "      <th>352</th>\n",
       "      <td>353</td>\n",
       "      <td>2010</td>\n",
       "      <td>My Beautiful Dark Twisted Fantasy</td>\n",
       "      <td>Kanye West</td>\n",
       "      <td>Hip Hop</td>\n",
       "      <td>None</td>\n",
       "    </tr>\n",
       "    <tr>\n",
       "      <th>380</th>\n",
       "      <td>381</td>\n",
       "      <td>2011</td>\n",
       "      <td>The Smile Sessions</td>\n",
       "      <td>The Beach Boys</td>\n",
       "      <td>Rock</td>\n",
       "      <td>Pop Rock, Psychedelic Rock</td>\n",
       "    </tr>\n",
       "  </tbody>\n",
       "</table>\n",
       "<p>500 rows × 6 columns</p>\n",
       "</div>"
      ],
      "text/plain": [
       "     Number  Year                              Album           Artist  \\\n",
       "289     290  1399                            Call Me         Al Green   \n",
       "100     101  1955             In the Wee Small Hours    Frank Sinatra   \n",
       "307     308  1956         Songs for Swingin' Lovers!    Frank Sinatra   \n",
       "55       56  1956                      Elvis Presley    Elvis Presley   \n",
       "49       50  1957              Here's Little Richard   Little Richard   \n",
       "..      ...   ...                                ...              ...   \n",
       "429     430  2007                    Vampire Weekend  Vampire Weekend   \n",
       "392     393  2007                               Kala           M.I.A.   \n",
       "436     437  2008                     Tha Carter III        Lil Wayne   \n",
       "352     353  2010  My Beautiful Dark Twisted Fantasy       Kanye West   \n",
       "380     381  2011                 The Smile Sessions   The Beach Boys   \n",
       "\n",
       "                                Genre                              Subgenre  \n",
       "289                       Funk / Soul                  Rhythm & Blues, Soul  \n",
       "100                         Jazz, Pop                      Big Band, Ballad  \n",
       "307                         Jazz, Pop                 Vocal, Easy Listening  \n",
       "55                               Rock               Rock & Roll, Rockabilly  \n",
       "49                        Rock, Blues           Rock & Roll, Rhythm & Blues  \n",
       "..                                ...                                   ...  \n",
       "429                              Rock                            Indie Rock  \n",
       "392  Electronic, Hip Hop, Reggae, Pop  Grime, Bollywood, Hip Hop, Dancehall  \n",
       "436              Hip Hop, Funk / Soul   RnB/Swing, Screw, Pop Rap, Thug Rap  \n",
       "352                           Hip Hop                                  None  \n",
       "380                              Rock            Pop Rock, Psychedelic Rock  \n",
       "\n",
       "[500 rows x 6 columns]"
      ]
     },
     "execution_count": 68,
     "metadata": {},
     "output_type": "execute_result"
    }
   ],
   "source": [
    "album.sort_values(by='Year')"
   ]
  },
  {
   "cell_type": "code",
   "execution_count": 118,
   "id": "5db9f010-eb4d-4abe-b32b-de1b340d59a3",
   "metadata": {},
   "outputs": [],
   "source": [
    "#replaced the year by researching on google\n",
    "album['Year'].replace({\"1399\":\"1973\"}, inplace=True)"
   ]
  },
  {
   "cell_type": "markdown",
   "id": "5f39d9fc-eeb0-4c13-afd2-7560e2f843c7",
   "metadata": {},
   "source": [
    "After successful cleaning we will start with data viszvisualization "
   ]
  },
  {
   "cell_type": "code",
   "execution_count": 77,
   "id": "703e3973-a3de-4eaf-a860-cb41cf23e091",
   "metadata": {},
   "outputs": [],
   "source": [
    "import matplotlib.pyplot as plt"
   ]
  },
  {
   "cell_type": "code",
   "execution_count": 97,
   "id": "cb4c4a6c-e79e-4eda-99ae-81964c68df92",
   "metadata": {},
   "outputs": [
    {
     "data": {
      "text/plain": [
       "Text(0.5, 1.0, 'Average Album by Year')"
      ]
     },
     "execution_count": 97,
     "metadata": {},
     "output_type": "execute_result"
    },
    {
     "data": {
      "image/png": "[encoded data removed]",
      "text/plain": [
       "<Figure size 936x504 with 1 Axes>"
      ]
     },
     "metadata": {
      "needs_background": "light"
     },
     "output_type": "display_data"
    }
   ],
   "source": [
    "#total albums released by year graph\n",
    "year1 = album['Year'].value_counts().plot.bar(figsize = (13, 7))\n",
    "year1.set_ylabel('Total Album Released by Year')\n",
    "year1.set_title('Average Album by Year')"
   ]
  },
  {
   "cell_type": "code",
   "execution_count": 104,
   "id": "9d84b52f-d858-4389-b43d-9f606945314d",
   "metadata": {},
   "outputs": [
    {
     "data": {
      "text/plain": [
       "Text(0.5, 1.0, 'Average Album by Year')"
      ]
     },
     "execution_count": 104,
     "metadata": {},
     "output_type": "execute_result"
    },
    {
     "data": {
      "image/png": "[encoded data removed]",
      "text/plain": [
       "<Figure size 1440x720 with 1 Axes>"
      ]
     },
     "metadata": {
      "needs_background": "light"
     },
     "output_type": "display_data"
    }
   ],
   "source": [
    "genre = album[['Genre','Year']].value_counts().plot.line(figsize = (20, 10))\n",
    "genre.set_ylabel('Total Album Released by ')\n",
    "genre.set_title('Average Album by Year')"
   ]
  },
  {
   "cell_type": "code",
   "execution_count": 111,
   "id": "0e5b26da-d4b2-4000-b922-8b6918eeb1eb",
   "metadata": {},
   "outputs": [
    {
     "data": {
      "text/plain": [
       "289                      1399\n",
       "100                      1955\n",
       "55                       1956\n",
       "307                      1956\n",
       "419                      1957\n",
       "                ...          \n",
       "392                      2007\n",
       "436                      2008\n",
       "352                      2010\n",
       "380                      2011\n",
       "185    nineteen seventy three\n",
       "Name: Year, Length: 500, dtype: object"
      ]
     },
     "execution_count": 111,
     "metadata": {},
     "output_type": "execute_result"
    }
   ],
   "source": []
  },
  {
   "cell_type": "code",
   "execution_count": null,
   "id": "fa0685d7-b454-4cf3-91d7-eca813a0c3a5",
   "metadata": {},
   "outputs": [],
   "source": []
  }
 ],
 "metadata": {
  "kernelspec": {
   "display_name": "Python 3 (ipykernel)",
   "language": "python",
   "name": "python3"
  },
  "language_info": {
   "codemirror_mode": {
    "name": "ipython",
    "version": 3
   },
   "file_extension": ".py",
   "mimetype": "text/x-python",
   "name": "python",
   "nbconvert_exporter": "python",
   "pygments_lexer": "ipython3",
   "version": "3.9.6"
  }
 },
 "nbformat": 4,
 "nbformat_minor": 5
}
